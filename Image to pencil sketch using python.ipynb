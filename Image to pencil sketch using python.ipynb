{
 "cells": [
  {
   "cell_type": "markdown",
   "id": "371eecb8",
   "metadata": {},
   "source": [
    "# Importing Required Libraries and  Reading Image"
   ]
  },
  {
   "cell_type": "code",
   "execution_count": 1,
   "id": "93f11850",
   "metadata": {},
   "outputs": [],
   "source": [
    "import cv2\n",
    "img=cv2.imread(\"E:\\\\MANISH\\\\NOTES\\\\DATA SCIENCE\\\\Projects\\\\LGM\\\\1st\\\\47372860-taj-mahal-hd-wallpaper.jpg\")\n",
    "img = cv2.resize(img,(500,650))\n",
    "cv2.imshow('Original Image',img)\n",
    "cv2.waitKey(0)\n",
    "cv2.destroyAllWindows()"
   ]
  },
  {
   "cell_type": "markdown",
   "id": "8f06e316",
   "metadata": {},
   "source": [
    "# Conversion of Original Image to Gray Scale Image"
   ]
  },
  {
   "cell_type": "code",
   "execution_count": 2,
   "id": "de86ccfd",
   "metadata": {
    "scrolled": true
   },
   "outputs": [],
   "source": [
    "gray_img = cv2.cvtColor(img,cv2.COLOR_BGR2GRAY)\n",
    "cv2.imshow('Gray Image',gray_img)\n",
    "cv2.waitKey(0)\n",
    "cv2.destroyAllWindows()"
   ]
  },
  {
   "cell_type": "markdown",
   "id": "4c881de3",
   "metadata": {},
   "source": [
    "# Conversion of Gray Scale Image to Inverted Image"
   ]
  },
  {
   "cell_type": "code",
   "execution_count": 3,
   "id": "0a19df17",
   "metadata": {},
   "outputs": [],
   "source": [
    "invert_img = cv2.bitwise_not(gray_img)\n",
    "cv2.imshow('Inverted Image',invert_img)\n",
    "cv2.waitKey(0)\n",
    "cv2.destroyAllWindows()"
   ]
  },
  {
   "cell_type": "markdown",
   "id": "c24f0673",
   "metadata": {},
   "source": [
    "# Blur Image"
   ]
  },
  {
   "cell_type": "code",
   "execution_count": 4,
   "id": "a9873e48",
   "metadata": {},
   "outputs": [],
   "source": [
    "blur_img = cv2.GaussianBlur(invert_img,(5,5),0,0)\n",
    "cv2.imshow('Blurred Image',blur_img)\n",
    "cv2.waitKey(0)\n",
    "cv2.destroyAllWindows()"
   ]
  },
  {
   "cell_type": "markdown",
   "id": "8aea8f3f",
   "metadata": {},
   "source": [
    "# Pencil Sketch"
   ]
  },
  {
   "cell_type": "code",
   "execution_count": 6,
   "id": "932f4010",
   "metadata": {},
   "outputs": [],
   "source": [
    "invert_blur = 255-blur_img\n",
    "pencil_sketch = cv2.divide(gray_img,invert_blur,scale=250.0)\n",
    "cv2.imshow('Pencil Sketch',pencil_sketch)\n",
    "cv2.waitKey(0)\n",
    "cv2.destroyAllWindows()"
   ]
  },
  {
   "cell_type": "code",
   "execution_count": null,
   "id": "b1aeda35",
   "metadata": {},
   "outputs": [],
   "source": []
  }
 ],
 "metadata": {
  "kernelspec": {
   "display_name": "Python 3 (ipykernel)",
   "language": "python",
   "name": "python3"
  },
  "language_info": {
   "codemirror_mode": {
    "name": "ipython",
    "version": 3
   },
   "file_extension": ".py",
   "mimetype": "text/x-python",
   "name": "python",
   "nbconvert_exporter": "python",
   "pygments_lexer": "ipython3",
   "version": "3.8.3"
  }
 },
 "nbformat": 4,
 "nbformat_minor": 5
}
